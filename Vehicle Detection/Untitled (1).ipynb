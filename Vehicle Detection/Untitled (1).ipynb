{
 "cells": [
  {
   "cell_type": "code",
   "execution_count": 19,
   "metadata": {},
   "outputs": [],
   "source": [
    "\n",
    "#image\n",
    "import cv2\n",
    "import numpy as np\n",
    "import time\n",
    "\n",
    "cap = cv2.VideoCapture('yt1s.com - Car Traffic_480p.mp4')\n",
    "while(cap.isOpened()):\n",
    "    ret, image = cap.read()\n",
    "    gray = cv2.cvtColor(image, cv2.COLOR_BGR2GRAY)\n",
    "    car_cascade = cv2.CascadeClassifier('cars.xml')\n",
    "    cars = car_cascade.detectMultiScale(gray, scaleFactor=1.06, minNeighbors=8)\n",
    "    for (x, y, w, h) in cars:\n",
    "        cv2.rectangle(image, (x, y), (x+w, y+h), (0, 0, 255), 2)\n",
    "\n",
    "    if cv2.waitKey(1) == ord('q'):\n",
    "        cv2.destroyAllWindows()\n",
    "        break\n",
    "    cv2.imshow('image',image)\n",
    "\n"
   ]
  }
 ],
 "metadata": {
  "kernelspec": {
   "display_name": "Python 3",
   "language": "python",
   "name": "python3"
  },
  "language_info": {
   "codemirror_mode": {
    "name": "ipython",
    "version": 3
   },
   "file_extension": ".py",
   "mimetype": "text/x-python",
   "name": "python",
   "nbconvert_exporter": "python",
   "pygments_lexer": "ipython3",
   "version": "3.8.5"
  }
 },
 "nbformat": 4,
 "nbformat_minor": 4
}
